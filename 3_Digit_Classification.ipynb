{
  "nbformat": 4,
  "nbformat_minor": 0,
  "metadata": {
    "colab": {
      "provenance": [],
      "authorship_tag": "ABX9TyMXV/lrMIeck4Xvhy64tbp/",
      "include_colab_link": true
    },
    "kernelspec": {
      "name": "python3",
      "display_name": "Python 3"
    },
    "language_info": {
      "name": "python"
    }
  },
  "cells": [
    {
      "cell_type": "markdown",
      "metadata": {
        "id": "view-in-github",
        "colab_type": "text"
      },
      "source": [
        "<a href=\"https://colab.research.google.com/github/user20and21/Account/blob/master/3_Digit_Classification.ipynb\" target=\"_parent\"><img src=\"https://colab.research.google.com/assets/colab-badge.svg\" alt=\"Open In Colab\"/></a>"
      ]
    },
    {
      "cell_type": "code",
      "execution_count": null,
      "metadata": {
        "colab": {
          "base_uri": "https://localhost:8080/"
        },
        "id": "8M3EPlrBDr8n",
        "outputId": "4790a8ba-58a6-4ce1-8c4d-ec8ccf2d8ead"
      },
      "outputs": [
        {
          "output_type": "execute_result",
          "data": {
            "text/plain": [
              "sklearn.utils._bunch.Bunch"
            ]
          },
          "metadata": {},
          "execution_count": 2
        }
      ],
      "source": [
        "import sklearn\n",
        "import sklearn.datasets as datasets\n",
        "data = datasets.load_digits()\n",
        "type(data)"
      ]
    },
    {
      "cell_type": "code",
      "source": [
        "data.keys()"
      ],
      "metadata": {
        "colab": {
          "base_uri": "https://localhost:8080/"
        },
        "id": "RBRKOXN3EonU",
        "outputId": "f92edec0-084e-487d-a585-19c8a00740bf"
      },
      "execution_count": null,
      "outputs": [
        {
          "output_type": "execute_result",
          "data": {
            "text/plain": [
              "dict_keys(['data', 'target', 'frame', 'feature_names', 'target_names', 'images', 'DESCR'])"
            ]
          },
          "metadata": {},
          "execution_count": 4
        }
      ]
    },
    {
      "cell_type": "code",
      "source": [
        "len(data.images)"
      ],
      "metadata": {
        "colab": {
          "base_uri": "https://localhost:8080/"
        },
        "id": "tgYhSMLlFC7i",
        "outputId": "fc190933-c162-431b-b85d-282298a1867d"
      },
      "execution_count": null,
      "outputs": [
        {
          "output_type": "execute_result",
          "data": {
            "text/plain": [
              "1797"
            ]
          },
          "metadata": {},
          "execution_count": 5
        }
      ]
    },
    {
      "cell_type": "code",
      "source": [
        "type(data.images)"
      ],
      "metadata": {
        "colab": {
          "base_uri": "https://localhost:8080/"
        },
        "id": "VRksNOuXFHr4",
        "outputId": "5d41732a-47b9-4615-f573-92fb8eac86f9"
      },
      "execution_count": null,
      "outputs": [
        {
          "output_type": "execute_result",
          "data": {
            "text/plain": [
              "numpy.ndarray"
            ]
          },
          "metadata": {},
          "execution_count": 6
        }
      ]
    },
    {
      "cell_type": "code",
      "source": [
        "data.images[0].shape"
      ],
      "metadata": {
        "colab": {
          "base_uri": "https://localhost:8080/"
        },
        "id": "THyDBoF2FLRU",
        "outputId": "c9e51241-490f-4d16-add4-db107ba624e2"
      },
      "execution_count": null,
      "outputs": [
        {
          "output_type": "execute_result",
          "data": {
            "text/plain": [
              "(8, 8)"
            ]
          },
          "metadata": {},
          "execution_count": 7
        }
      ]
    },
    {
      "cell_type": "code",
      "source": [
        "data.images"
      ],
      "metadata": {
        "id": "b-uBV5sGFPxq"
      },
      "execution_count": null,
      "outputs": []
    },
    {
      "cell_type": "code",
      "source": [
        "data.target[0]"
      ],
      "metadata": {
        "id": "X_GUE84_FXNe"
      },
      "execution_count": null,
      "outputs": []
    },
    {
      "cell_type": "code",
      "source": [
        "data.images[0].dtype"
      ],
      "metadata": {
        "id": "_cPb6yJ3Fd3P"
      },
      "execution_count": null,
      "outputs": []
    },
    {
      "cell_type": "code",
      "source": [
        "import numpy as np\n",
        "np.max(data.images)"
      ],
      "metadata": {
        "colab": {
          "base_uri": "https://localhost:8080/"
        },
        "id": "qzGFFlEbFnHq",
        "outputId": "2bf3b2fd-ca73-41e2-bdb7-24c5d46ee3cf"
      },
      "execution_count": null,
      "outputs": [
        {
          "output_type": "execute_result",
          "data": {
            "text/plain": [
              "16.0"
            ]
          },
          "metadata": {},
          "execution_count": 11
        }
      ]
    },
    {
      "cell_type": "code",
      "source": [
        "#How do I convert this to 255 values?\n",
        "(data.images[0]/16 * 255).astype(np.uint8)"
      ],
      "metadata": {
        "id": "JgpI_z70F1oI"
      },
      "execution_count": null,
      "outputs": []
    },
    {
      "cell_type": "code",
      "source": [
        "from PIL import Image\n",
        "\n",
        "Image.fromarray((data.images[0]/16 * 255).astype(np.uint8))"
      ],
      "metadata": {
        "colab": {
          "base_uri": "https://localhost:8080/",
          "height": 34
        },
        "id": "W6x7u4O-GdsS",
        "outputId": "ee94c8b7-5d49-44fe-bfb2-4909a18a9a14"
      },
      "execution_count": null,
      "outputs": [
        {
          "output_type": "execute_result",
          "data": {
            "text/plain": [
              "<PIL.Image.Image image mode=L size=8x8 at 0x7856CA51E500>"
            ],
            "image/png": "[encoded data removed]"
          },
          "metadata": {},
          "execution_count": 21
        }
      ]
    },
    {
      "cell_type": "code",
      "source": [
        "Image.fromarray((data.images[0]/16 * 255).astype(np.uint8)).resize((100, 100))"
      ],
      "metadata": {
        "colab": {
          "base_uri": "https://localhost:8080/",
          "height": 117
        },
        "id": "L5ET1gH6HOld",
        "outputId": "68017500-23ab-41fd-aa29-b0c1bb0f4d61"
      },
      "execution_count": null,
      "outputs": [
        {
          "output_type": "execute_result",
          "data": {
            "text/plain": [
              "<PIL.Image.Image image mode=L size=100x100 at 0x7856CA51E8F0>"
            ],
            "image/png": "[encoded data removed]"
          },
          "metadata": {},
          "execution_count": 22
        }
      ]
    },
    {
      "cell_type": "code",
      "source": [
        "Image.fromarray((data.images[0]/16 * 255).astype(np.uint8)).resize((100, 100), resample = Image.NEAREST)"
      ],
      "metadata": {
        "colab": {
          "base_uri": "https://localhost:8080/",
          "height": 117
        },
        "id": "Qx1AzbrDHas9",
        "outputId": "ba5dff73-f339-49f5-c385-1de054b51942"
      },
      "execution_count": null,
      "outputs": [
        {
          "output_type": "execute_result",
          "data": {
            "text/plain": [
              "<PIL.Image.Image image mode=L size=100x100 at 0x7856CA3BE5C0>"
            ],
            "image/png": "[encoded data removed]"
          },
          "metadata": {},
          "execution_count": 26
        }
      ]
    },
    {
      "cell_type": "code",
      "source": [
        "i = 8\n",
        "print(data.target[i])\n",
        "Image.fromarray((data.images[i]/16 * 255).astype(np.uint8)).resize((100, 100), resample = Image.NEAREST)"
      ],
      "metadata": {
        "colab": {
          "base_uri": "https://localhost:8080/",
          "height": 134
        },
        "id": "medcRJ7DIDeO",
        "outputId": "7343cd2c-af67-4620-d413-9bc29fa53b5c"
      },
      "execution_count": null,
      "outputs": [
        {
          "output_type": "stream",
          "name": "stdout",
          "text": [
            "8\n"
          ]
        },
        {
          "output_type": "execute_result",
          "data": {
            "text/plain": [
              "<PIL.Image.Image image mode=L size=100x100 at 0x7856FB6287F0>"
            ],
            "image/png": "[encoded data removed]"
          },
          "metadata": {},
          "execution_count": 29
        }
      ]
    },
    {
      "cell_type": "code",
      "source": [
        "#Train a model\n",
        "#Perform a data split into train and test\n",
        "#Train a SVM Classifier\n",
        "#Evaluate the classifier\n",
        "\n",
        "data.images.shape"
      ],
      "metadata": {
        "colab": {
          "base_uri": "https://localhost:8080/"
        },
        "id": "niBEuNQCJAn5",
        "outputId": "d4161801-dc49-47f5-ff89-aec690643acb"
      },
      "execution_count": 30,
      "outputs": [
        {
          "output_type": "execute_result",
          "data": {
            "text/plain": [
              "(1797, 8, 8)"
            ]
          },
          "metadata": {},
          "execution_count": 30
        }
      ]
    },
    {
      "cell_type": "code",
      "source": [
        "from sklearn.model_selection import train_test_split\n",
        "#SVM is expecting a flat image and not an 2D 8x 8 array\n",
        "#We want to keep the quantity the same but combine the two 8 x 8 into a 1D array\n",
        "\n",
        "flat_data = data.images.reshape(len(data.images), -1)\n",
        "x_train, x_test, y_train, y_test = train_test_split(flat_data, data.target, train_size = 0.8)\n",
        "x_test.shape"
      ],
      "metadata": {
        "colab": {
          "base_uri": "https://localhost:8080/"
        },
        "id": "WxAFB2G2KMW_",
        "outputId": "14cf06bd-3fa2-4225-dad6-ba8f08fa832a"
      },
      "execution_count": 42,
      "outputs": [
        {
          "output_type": "execute_result",
          "data": {
            "text/plain": [
              "(360, 64)"
            ]
          },
          "metadata": {},
          "execution_count": 42
        }
      ]
    },
    {
      "cell_type": "code",
      "source": [
        "#Image.fromarray((data.images[i]/16 * 255).astype(np.uint8)).resize((100, 100), resample = Image.NEAREST)\n",
        "print(y_train[100])\n",
        "Image.fromarray((x_train[100].reshape((8,8))/16 *255).astype(np.uint8)).resize((100, 100), resample = Image.NEAREST)"
      ],
      "metadata": {
        "colab": {
          "base_uri": "https://localhost:8080/",
          "height": 134
        },
        "id": "zVS-FYvNTT4A",
        "outputId": "e68ed4aa-ac41-4b55-9ec5-f2caa3c16a98"
      },
      "execution_count": 55,
      "outputs": [
        {
          "output_type": "stream",
          "name": "stdout",
          "text": [
            "6\n"
          ]
        },
        {
          "output_type": "execute_result",
          "data": {
            "text/plain": [
              "<PIL.Image.Image image mode=L size=100x100 at 0x7856CA3BCD90>"
            ],
            "image/png": "[encoded data removed]"
          },
          "metadata": {},
          "execution_count": 55
        }
      ]
    },
    {
      "cell_type": "code",
      "source": [
        "print(y_test[100])\n",
        "Image.fromarray((x_test[100].reshape((8,8))/16*255).astype(np.uint8)).resize((100, 100))"
      ],
      "metadata": {
        "colab": {
          "base_uri": "https://localhost:8080/",
          "height": 134
        },
        "id": "aLatxSP5VZMu",
        "outputId": "c7954daa-c4e8-4beb-d832-913506fbefcb"
      },
      "execution_count": 59,
      "outputs": [
        {
          "output_type": "stream",
          "name": "stdout",
          "text": [
            "2\n"
          ]
        },
        {
          "output_type": "execute_result",
          "data": {
            "text/plain": [
              "<PIL.Image.Image image mode=L size=100x100 at 0x7856C9E6A3B0>"
            ],
            "image/png": "[encoded data removed]"
          },
          "metadata": {},
          "execution_count": 59
        }
      ]
    },
    {
      "cell_type": "code",
      "source": [
        "from sklearn import svm\n",
        "model = svm.SVC(gamma = 0.001)\n",
        "model.fit(x_train, y_train)"
      ],
      "metadata": {
        "id": "UJgk-lkqV9sC"
      },
      "execution_count": null,
      "outputs": []
    },
    {
      "cell_type": "code",
      "source": [
        "model.predict(x_train[5:6]) #expects a list rather than one image"
      ],
      "metadata": {
        "colab": {
          "base_uri": "https://localhost:8080/"
        },
        "id": "p09pbTkDWVAa",
        "outputId": "adcd6b12-1ff1-47ab-c259-ed0cd0cae8f3"
      },
      "execution_count": 66,
      "outputs": [
        {
          "output_type": "execute_result",
          "data": {
            "text/plain": [
              "array([8])"
            ]
          },
          "metadata": {},
          "execution_count": 66
        }
      ]
    },
    {
      "cell_type": "code",
      "source": [
        "y_train[5]"
      ],
      "metadata": {
        "id": "Yg8olajNWlNW"
      },
      "execution_count": null,
      "outputs": []
    },
    {
      "cell_type": "code",
      "source": [
        "model.predict(x_train[:10])"
      ],
      "metadata": {
        "colab": {
          "base_uri": "https://localhost:8080/"
        },
        "id": "nvGJZYDAW07W",
        "outputId": "c020fb83-6488-4b12-a60c-eade4fdddc1c"
      },
      "execution_count": 70,
      "outputs": [
        {
          "output_type": "execute_result",
          "data": {
            "text/plain": [
              "array([1, 0, 3, 4, 4, 8, 8, 7, 4, 1])"
            ]
          },
          "metadata": {},
          "execution_count": 70
        }
      ]
    },
    {
      "cell_type": "code",
      "source": [
        "model.predict(x_test[:10])"
      ],
      "metadata": {
        "colab": {
          "base_uri": "https://localhost:8080/"
        },
        "id": "6K12eGx6XErK",
        "outputId": "ce8d6c2a-2bc1-45e4-8d4d-49ba6f4d4685"
      },
      "execution_count": 71,
      "outputs": [
        {
          "output_type": "execute_result",
          "data": {
            "text/plain": [
              "array([1, 6, 6, 0, 1, 6, 5, 8, 5, 5])"
            ]
          },
          "metadata": {},
          "execution_count": 71
        }
      ]
    },
    {
      "cell_type": "code",
      "source": [
        "y_test[:10]"
      ],
      "metadata": {
        "colab": {
          "base_uri": "https://localhost:8080/"
        },
        "id": "ZTzoUSWaXLZY",
        "outputId": "19dd6d4c-5cef-49c5-d332-bb9102f1fc5e"
      },
      "execution_count": 72,
      "outputs": [
        {
          "output_type": "execute_result",
          "data": {
            "text/plain": [
              "array([1, 6, 6, 0, 1, 6, 5, 8, 5, 5])"
            ]
          },
          "metadata": {},
          "execution_count": 72
        }
      ]
    },
    {
      "cell_type": "code",
      "source": [
        "from sklearn import metrics\n",
        "\n",
        "#How do we prdict all the outcomes for the testing data and save it into a single variable name\n",
        "predicted = model.predict(x_test) #Feed the whole list into model.predict and save it under a variable name\n",
        "\n",
        "#How do we find out how accurate our predictions were?\n",
        "#We call classification_report from model and feed it y_test and the predicted values\n",
        "\n",
        "print(metrics.classification_report(y_test, predicted))"
      ],
      "metadata": {
        "colab": {
          "base_uri": "https://localhost:8080/"
        },
        "id": "BwGJjOo9XbO9",
        "outputId": "8685d08c-c6e3-41f9-9a3b-c86718b9bd39"
      },
      "execution_count": 74,
      "outputs": [
        {
          "output_type": "stream",
          "name": "stdout",
          "text": [
            "              precision    recall  f1-score   support\n",
            "\n",
            "           0       1.00      0.97      0.99        39\n",
            "           1       0.92      1.00      0.96        36\n",
            "           2       1.00      1.00      1.00        37\n",
            "           3       1.00      1.00      1.00        32\n",
            "           4       0.98      1.00      0.99        40\n",
            "           5       1.00      0.97      0.99        37\n",
            "           6       0.98      1.00      0.99        44\n",
            "           7       1.00      1.00      1.00        31\n",
            "           8       1.00      0.92      0.96        37\n",
            "           9       1.00      1.00      1.00        27\n",
            "\n",
            "    accuracy                           0.99       360\n",
            "   macro avg       0.99      0.99      0.99       360\n",
            "weighted avg       0.99      0.99      0.99       360\n",
            "\n"
          ]
        }
      ]
    },
    {
      "cell_type": "code",
      "source": [
        "#How do you assess accuracy with a confusion matrix\n",
        "#WE call ConfusionMatrixDisplay from metrics and then call from_predictions to which we feed y_test and predicted\n",
        "metrics.ConfusionMatrixDisplay.from_predictions(y_test, predicted)"
      ],
      "metadata": {
        "colab": {
          "base_uri": "https://localhost:8080/",
          "height": 466
        },
        "id": "Ja5RW47zYeU0",
        "outputId": "4e7bc8c8-f1c0-4e50-b491-8a90fc0b7350"
      },
      "execution_count": 75,
      "outputs": [
        {
          "output_type": "execute_result",
          "data": {
            "text/plain": [
              "<sklearn.metrics._plot.confusion_matrix.ConfusionMatrixDisplay at 0x7856c9b7b730>"
            ]
          },
          "metadata": {},
          "execution_count": 75
        },
        {
          "output_type": "display_data",
          "data": {
            "text/plain": [
              "<Figure size 640x480 with 2 Axes>"
            ],
            "image/png": "[encoded data removed]"
          },
          "metadata": {}
        }
      ]
    },
    {
      "cell_type": "code",
      "source": [
        "#Save the model to disk to be reloaded at a later time in another process for evaluation or inference\n",
        "import pickle\n",
        "with open(\"model.pkl\", \"wb\") as fio:\n",
        "  pickle.dump(model, fio)"
      ],
      "metadata": {
        "id": "oZLRfqeZaFk0"
      },
      "execution_count": 76,
      "outputs": []
    },
    {
      "cell_type": "code",
      "source": [
        "#How do we open the model again - somewhere else maybe?\n",
        "with open(\"model.pkl\", \"rb\") as fio:\n",
        "  mymodel = pickle.load(fio)"
      ],
      "metadata": {
        "id": "n1VA-CQCiYgs"
      },
      "execution_count": 79,
      "outputs": []
    },
    {
      "cell_type": "code",
      "source": [
        "#How do we use this model: You can use it in place of model\n",
        "mymodel.predict(x_test[:10])"
      ],
      "metadata": {
        "colab": {
          "base_uri": "https://localhost:8080/"
        },
        "id": "EACqILFci9mT",
        "outputId": "3e4086ca-15ec-405c-c356-e10780cab691"
      },
      "execution_count": 80,
      "outputs": [
        {
          "output_type": "execute_result",
          "data": {
            "text/plain": [
              "array([1, 6, 6, 0, 1, 6, 5, 8, 5, 5])"
            ]
          },
          "metadata": {},
          "execution_count": 80
        }
      ]
    },
    {
      "cell_type": "code",
      "source": [
        "y_test[:10]"
      ],
      "metadata": {
        "colab": {
          "base_uri": "https://localhost:8080/"
        },
        "id": "l7dTZn1jjMp_",
        "outputId": "0f34087c-a7c5-4aa5-ac7a-ede1ad6254fd"
      },
      "execution_count": 81,
      "outputs": [
        {
          "output_type": "execute_result",
          "data": {
            "text/plain": [
              "array([1, 6, 6, 0, 1, 6, 5, 8, 5, 5])"
            ]
          },
          "metadata": {},
          "execution_count": 81
        }
      ]
    },
    {
      "cell_type": "code",
      "source": [
        "image6 = Image.open(\"Digit_6.png\").resize((8,8))"
      ],
      "metadata": {
        "id": "oSVZcEz0kXGl"
      },
      "execution_count": 87,
      "outputs": []
    },
    {
      "cell_type": "code",
      "source": [
        "#convert the image into a numpy array\n",
        "np_image6 = np.array(image6)\n",
        "np_image6"
      ],
      "metadata": {
        "colab": {
          "base_uri": "https://localhost:8080/"
        },
        "id": "rzUDqtz5kwdB",
        "outputId": "20d15d63-e436-4e3b-b33c-06f6885fc07d"
      },
      "execution_count": 90,
      "outputs": [
        {
          "output_type": "execute_result",
          "data": {
            "text/plain": [
              "array([[  0,   0,   0,   0,   0,   0,   0,   0],\n",
              "       [  0,   0,   0,   1,  16,   0,   0,   0],\n",
              "       [  0,   0,   1,   0,   0,   0,   0,   0],\n",
              "       [  0,   0,   1,   1,   1,   0,   0,   0],\n",
              "       [  0,   0, 186,   0,   0, 176,   0,   0],\n",
              "       [  0,   0,   0,   1,   1,   0,   0,   0],\n",
              "       [  0,   0,   0,   0,   0,   0,   0,   0],\n",
              "       [  0,   0,   0,   0,   0,   0,   0,   0]], dtype=uint8)"
            ]
          },
          "metadata": {},
          "execution_count": 90
        }
      ]
    },
    {
      "cell_type": "code",
      "source": [
        "#The model expects values up to 16 in floats\n",
        "#How do we convert it to float32 and give it values up to 16\n",
        "pre_processed6 = np_image6.astype(np.float32)/255 * 16"
      ],
      "metadata": {
        "id": "_smN9knhkl6g"
      },
      "execution_count": 92,
      "outputs": []
    },
    {
      "cell_type": "code",
      "source": [
        "pre_processed6.flatten()[None].shape"
      ],
      "metadata": {
        "colab": {
          "base_uri": "https://localhost:8080/"
        },
        "id": "0N3LlK1gllvW",
        "outputId": "8144c7ed-6ab4-44b6-faeb-a692be7b4a58"
      },
      "execution_count": 105,
      "outputs": [
        {
          "output_type": "execute_result",
          "data": {
            "text/plain": [
              "(1, 64)"
            ]
          },
          "metadata": {},
          "execution_count": 105
        }
      ]
    },
    {
      "cell_type": "code",
      "source": [
        "#The model expects the image to be 1D and not 2D so we need to flatten it\n",
        "pre_processed6.flatten()[None]"
      ],
      "metadata": {
        "colab": {
          "base_uri": "https://localhost:8080/"
        },
        "id": "fFNrYHkgmCGN",
        "outputId": "6a18eb66-0989-417e-d831-31b44242f430"
      },
      "execution_count": 106,
      "outputs": [
        {
          "output_type": "execute_result",
          "data": {
            "text/plain": [
              "array([[ 0.       ,  0.       ,  0.       ,  0.       ,  0.       ,\n",
              "         0.       ,  0.       ,  0.       ,  0.       ,  0.       ,\n",
              "         0.       ,  0.0627451,  1.0039216,  0.       ,  0.       ,\n",
              "         0.       ,  0.       ,  0.       ,  0.0627451,  0.       ,\n",
              "         0.       ,  0.       ,  0.       ,  0.       ,  0.       ,\n",
              "         0.       ,  0.0627451,  0.0627451,  0.0627451,  0.       ,\n",
              "         0.       ,  0.       ,  0.       ,  0.       , 11.6705885,\n",
              "         0.       ,  0.       , 11.043138 ,  0.       ,  0.       ,\n",
              "         0.       ,  0.       ,  0.       ,  0.0627451,  0.0627451,\n",
              "         0.       ,  0.       ,  0.       ,  0.       ,  0.       ,\n",
              "         0.       ,  0.       ,  0.       ,  0.       ,  0.       ,\n",
              "         0.       ,  0.       ,  0.       ,  0.       ,  0.       ,\n",
              "         0.       ,  0.       ,  0.       ,  0.       ]], dtype=float32)"
            ]
          },
          "metadata": {},
          "execution_count": 106
        }
      ]
    },
    {
      "cell_type": "code",
      "source": [
        "pre_processed6.reshape(len(pre_processed6), -1).shape"
      ],
      "metadata": {
        "colab": {
          "base_uri": "https://localhost:8080/"
        },
        "id": "dRgg-ektmo3B",
        "outputId": "0a8a9f58-659f-4c9f-f961-d5ef814077d6"
      },
      "execution_count": 104,
      "outputs": [
        {
          "output_type": "execute_result",
          "data": {
            "text/plain": [
              "(8, 8)"
            ]
          },
          "metadata": {},
          "execution_count": 104
        }
      ]
    },
    {
      "cell_type": "code",
      "source": [
        "#How do we get the model to predict this image?\n",
        "model.predict(pre_processed6.flatten()[None])"
      ],
      "metadata": {
        "colab": {
          "base_uri": "https://localhost:8080/"
        },
        "id": "6jQ8Jmd3lvtG",
        "outputId": "668aa76f-42ac-45b7-b567-8d18830c707f"
      },
      "execution_count": 110,
      "outputs": [
        {
          "output_type": "execute_result",
          "data": {
            "text/plain": [
              "array([1])"
            ]
          },
          "metadata": {},
          "execution_count": 110
        }
      ]
    },
    {
      "cell_type": "code",
      "source": [
        "#image6 = Image.open(\"Digit_6.png\").resize((8,8))\n",
        "\n",
        "image5 = Image.open(\"Digit_5.png\").resize((8, 8))\n",
        "image5"
      ],
      "metadata": {
        "id": "tVYFNf_kntN_"
      },
      "execution_count": null,
      "outputs": []
    },
    {
      "cell_type": "code",
      "source": [
        "#How do I convert it into an array?\n",
        "np_image5 = np.array(image5)\n",
        "np_image5"
      ],
      "metadata": {
        "id": "n2fNfpppoUbc"
      },
      "execution_count": null,
      "outputs": []
    },
    {
      "cell_type": "code",
      "source": [
        "#How do you convert it into float32 and 16 values?\n",
        "image5_in16 = np_image5.astype(np.float32)/255 *16"
      ],
      "metadata": {
        "id": "qz8YwCqLokLE"
      },
      "execution_count": 117,
      "outputs": []
    },
    {
      "cell_type": "code",
      "source": [
        "#How do we flatten it?\n",
        "image5_final = image5_in16.flatten()[None]\n",
        "image5_final.shape\n"
      ],
      "metadata": {
        "colab": {
          "base_uri": "https://localhost:8080/"
        },
        "id": "lKM-2X3Lo0AI",
        "outputId": "cadb4a86-a218-4340-c795-4b7ce0dd30b0"
      },
      "execution_count": 125,
      "outputs": [
        {
          "output_type": "execute_result",
          "data": {
            "text/plain": [
              "(1, 64)"
            ]
          },
          "metadata": {},
          "execution_count": 125
        }
      ]
    },
    {
      "cell_type": "code",
      "source": [
        "model.predict(image5_final)"
      ],
      "metadata": {
        "colab": {
          "base_uri": "https://localhost:8080/"
        },
        "id": "UUb38c27o_bl",
        "outputId": "a6a6e108-78ce-4cf2-f128-4344c1cf3842"
      },
      "execution_count": 126,
      "outputs": [
        {
          "output_type": "execute_result",
          "data": {
            "text/plain": [
              "array([1])"
            ]
          },
          "metadata": {},
          "execution_count": 126
        }
      ]
    },
    {
      "cell_type": "code",
      "source": [
        "y_test[0:10]"
      ],
      "metadata": {
        "colab": {
          "base_uri": "https://localhost:8080/"
        },
        "id": "1tvi4FUUpqfh",
        "outputId": "108788e8-413d-4b3a-e0cc-9d47eafed35a"
      },
      "execution_count": 127,
      "outputs": [
        {
          "output_type": "execute_result",
          "data": {
            "text/plain": [
              "array([1, 6, 6, 0, 1, 6, 5, 8, 5, 5])"
            ]
          },
          "metadata": {},
          "execution_count": 127
        }
      ]
    },
    {
      "cell_type": "code",
      "source": [
        "#How do we find where the image '1'is saved?\n",
        "np.where(y_test == 9)"
      ],
      "metadata": {
        "colab": {
          "base_uri": "https://localhost:8080/"
        },
        "id": "EC9OecnXp4x7",
        "outputId": "6a91faca-a1e8-48bd-9cf3-e15fa21fc888"
      },
      "execution_count": 139,
      "outputs": [
        {
          "output_type": "execute_result",
          "data": {
            "text/plain": [
              "(array([ 17,  34,  44,  45,  49,  78,  81, 103, 104, 107, 114, 118, 215,\n",
              "        243, 252, 261, 264, 267, 280, 286, 300, 312, 326, 331, 344, 346,\n",
              "        356]),)"
            ]
          },
          "metadata": {},
          "execution_count": 139
        }
      ]
    },
    {
      "cell_type": "code",
      "source": [
        "Image.fromarray((x_test[44].reshape((8,8))/16 *255).astype(np.uint8)).resize((100, 100), resample = Image.NEAREST)"
      ],
      "metadata": {
        "colab": {
          "base_uri": "https://localhost:8080/",
          "height": 117
        },
        "id": "lNKtujtRqPPa",
        "outputId": "f6822d8f-2f9f-4bb7-fe37-6631e0f03790"
      },
      "execution_count": 142,
      "outputs": [
        {
          "output_type": "execute_result",
          "data": {
            "text/plain": [
              "<PIL.Image.Image image mode=L size=100x100 at 0x7856C728A9B0>"
            ],
            "image/png": "[encoded data removed]"
          },
          "metadata": {},
          "execution_count": 142
        }
      ]
    },
    {
      "cell_type": "code",
      "source": [
        "\n",
        "image9 = Image.open(\"Digit_9.png\").resize((8,8))\n",
        "np_image9 = np.array(image9)\n",
        "np_in16 = np_image9.astype(np.float32)/255 *16\n",
        "np_final = np_in16.flatten()[None]\n",
        "np_final.shape"
      ],
      "metadata": {
        "colab": {
          "base_uri": "https://localhost:8080/"
        },
        "id": "nMf-trVCrCHn",
        "outputId": "92cbf928-2ea9-4e54-e731-1a045a087dd4"
      },
      "execution_count": 155,
      "outputs": [
        {
          "output_type": "execute_result",
          "data": {
            "text/plain": [
              "(1, 64)"
            ]
          },
          "metadata": {},
          "execution_count": 155
        }
      ]
    },
    {
      "cell_type": "code",
      "source": [
        "model.predict(np_final)"
      ],
      "metadata": {
        "colab": {
          "base_uri": "https://localhost:8080/"
        },
        "id": "XNqN5uvtsU5V",
        "outputId": "3ed11902-c68b-4bcc-8b59-baa180ebdc55"
      },
      "execution_count": 156,
      "outputs": [
        {
          "output_type": "execute_result",
          "data": {
            "text/plain": [
              "array([1])"
            ]
          },
          "metadata": {},
          "execution_count": 156
        }
      ]
    }
  ]
}